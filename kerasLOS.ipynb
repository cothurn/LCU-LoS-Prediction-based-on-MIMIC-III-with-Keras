{
  "nbformat": 4,
  "nbformat_minor": 0,
  "metadata": {
    "colab": {
      "name": "kerasLOS.ipynb",
      "provenance": [],
      "private_outputs": true,
      "machine_shape": "hm",
      "authorship_tag": "ABX9TyPmjfeab3N2YQqSQNggcLmb",
      "include_colab_link": true
    },
    "kernelspec": {
      "name": "python3",
      "display_name": "Python 3"
    },
    "accelerator": "GPU"
  },
  "cells": [
    {
      "cell_type": "markdown",
      "metadata": {
        "id": "view-in-github",
        "colab_type": "text"
      },
      "source": [
        "<a href=\"https://colab.research.google.com/github/cothurn/LCU-LoS-Prediction-based-on-MIMIC-III-with-Keras/blob/master/kerasLOS.ipynb\" target=\"_parent\"><img src=\"https://colab.research.google.com/assets/colab-badge.svg\" alt=\"Open In Colab\"/></a>"
      ]
    },
    {
      "cell_type": "markdown",
      "metadata": {
        "id": "zq0PqCGM_PYC",
        "colab_type": "text"
      },
      "source": [
        "# Pre-Processing\n"
      ]
    },
    {
      "cell_type": "code",
      "metadata": {
        "id": "fpRS_M9Kfq6x",
        "colab_type": "code",
        "colab": {}
      },
      "source": [
        "from google.colab import drive\n",
        "drive.mount('/content/gdrive') \n"
      ],
      "execution_count": 0,
      "outputs": []
    },
    {
      "cell_type": "code",
      "metadata": {
        "id": "RJuy_b6VTKv0",
        "colab_type": "code",
        "colab": {}
      },
      "source": [
        "ls \"/content/gdrive/My Drive/MIMIC-III/mimic-iii-clinical-database-1.4/mimic-iii-clinical-database-1.4/\""
      ],
      "execution_count": 0,
      "outputs": []
    },
    {
      "cell_type": "code",
      "metadata": {
        "id": "Sm8pDgz6TVjN",
        "colab_type": "code",
        "colab": {}
      },
      "source": [
        "import gzip\n",
        "import csv"
      ],
      "execution_count": 0,
      "outputs": []
    },
    {
      "cell_type": "code",
      "metadata": {
        "id": "r3FgTStXiC2E",
        "colab_type": "code",
        "colab": {}
      },
      "source": [
        "f = gzip.open(\"/content/gdrive/My Drive/MIMIC-III/mimic-iii-clinical-database-1.4/mimic-iii-clinical-database-1.4/CHARTEVENTS.csv.gz\", mode='rt')"
      ],
      "execution_count": 0,
      "outputs": []
    },
    {
      "cell_type": "code",
      "metadata": {
        "id": "JjyO_ufYiHsV",
        "colab_type": "code",
        "colab": {}
      },
      "source": [
        "csvobj = csv.reader(f,delimiter = ',',quotechar=\"'\")"
      ],
      "execution_count": 0,
      "outputs": []
    },
    {
      "cell_type": "code",
      "metadata": {
        "id": "Px3xiN-niMK2",
        "colab_type": "code",
        "colab": {}
      },
      "source": [
        "idDict = dict()\n",
        "for line in csvobj:\n",
        "    print(line)\n",
        "    if line[4] in idDict:\n",
        "        idDict[line[4]] = idDict[line[4]] + 1\n",
        "    else:\n",
        "        idDict[line[4]] = 0"
      ],
      "execution_count": 0,
      "outputs": []
    },
    {
      "cell_type": "code",
      "metadata": {
        "id": "ilm4u4q9cFw1",
        "colab_type": "code",
        "colab": {}
      },
      "source": [
        "d = open(\"/content/gdrive/My Drive/MIMIC-III/mimic-iii-clinical-database-1.4/mimic-iii-clinical-database-1.4/itemCount.csv\",\"w\")\n",
        "for i in idDict.items():\n",
        "  print(str(i[0])+\",\"+str(i[1])+\"\\n\")\n",
        "\n",
        "  d.write(str(i[0])+\",\"+str(i[1])+\"\\n\")\n",
        "d.close()"
      ],
      "execution_count": 0,
      "outputs": []
    },
    {
      "cell_type": "code",
      "metadata": {
        "id": "0hta7YzXzfCz",
        "colab_type": "code",
        "colab": {}
      },
      "source": [
        "f = gzip.open(\"/content/gdrive/My Drive/MIMIC-III/mimic-iii-clinical-database-1.4/mimic-iii-clinical-database-1.4/CHARTEVENTS.csv.gz\", mode='rt')\n",
        "csvobj = csv.reader(f,delimiter = ',',quotechar=\"'\")\n",
        "ICUID = []\n",
        "for line in csvobj:\n",
        "  if line[4] == '211':\n",
        "    if line[3] not in ICUID:\n",
        "      if()\n",
        "      ICUID.append(line[3])\n",
        "print(\"part 1 done\")\n"
      ],
      "execution_count": 0,
      "outputs": []
    },
    {
      "cell_type": "code",
      "metadata": {
        "id": "T04dZvtB0Hvy",
        "colab_type": "code",
        "colab": {}
      },
      "source": [
        "len(ICUID)"
      ],
      "execution_count": 0,
      "outputs": []
    },
    {
      "cell_type": "code",
      "metadata": {
        "id": "3z8BpDj0jt9e",
        "colab_type": "code",
        "colab": {}
      },
      "source": [
        "f = gzip.open(\"/content/gdrive/My Drive/MIMIC-III/mimic-iii-clinical-database-1.4/mimic-iii-clinical-database-1.4/CHARTEVENTS.csv.gz\", mode='rt')\n",
        "csvobj = csv.reader(f,delimiter = ',',quotechar=\"'\")\n",
        "next(csvobj)\n",
        "charVueInput = []\n",
        "for line in csvobj:\n",
        "  if line[3] in ICUID:\n",
        "    temp = \",\".join([str(elem) for elem in line])+\"\\n\"\n",
        "    charVueInput.append(temp)\n",
        "    #print(line[0])\n",
        "  if(int(line[0])%100000==0):\n",
        "      print(line[0])\n",
        "print(\"part2 done\")"
      ],
      "execution_count": 0,
      "outputs": []
    },
    {
      "cell_type": "code",
      "metadata": {
        "id": "uDRMK9nRQKkE",
        "colab_type": "code",
        "colab": {}
      },
      "source": [
        "careVueChart = open(\"/content/gdrive/My Drive/MIMIC-III/mimic-iii-clinical-database-1.4/mimic-iii-clinical-database-1.4/CareVueChartEvent.csv\",\"w\")\n",
        "for line in charVueInput:\n",
        "  careVueChart.write(line)\n",
        "careVueChart.close()"
      ],
      "execution_count": 0,
      "outputs": []
    },
    {
      "cell_type": "code",
      "metadata": {
        "id": "gg_0CrIWtlqw",
        "colab_type": "code",
        "colab": {}
      },
      "source": [
        "careVueChart = open(\"/content/gdrive/My Drive/MIMIC-III/mimic-iii-clinical-database-1.4/mimic-iii-clinical-database-1.4/CareVueChartEvent.csv\",\"r\")\n",
        "csvobj = csv.reader(careVueChart,delimiter = ',',quotechar=\"'\")\n",
        "idDict = dict()\n",
        "for line in csvobj:\n",
        "    print(line)\n",
        "    if line[4] in idDict:\n",
        "        idDict[line[4]] = idDict[line[4]] + 1\n",
        "    else:\n",
        "        idDict[line[4]] = 1"
      ],
      "execution_count": 0,
      "outputs": []
    },
    {
      "cell_type": "code",
      "metadata": {
        "id": "VAVI6l9WuzSg",
        "colab_type": "code",
        "colab": {}
      },
      "source": [
        "import pandas as pd\n",
        "import regex as re"
      ],
      "execution_count": 0,
      "outputs": []
    },
    {
      "cell_type": "code",
      "metadata": {
        "id": "tFofmj42u7TK",
        "colab_type": "code",
        "colab": {}
      },
      "source": [
        "vitals = pd.read_table(\"/content/gdrive/My Drive/MIMIC-III/mimic-iii-clinical-database-1.4/mimic-iii-clinical-database-1.4/vitals.csv\",delimiter=\",\")"
      ],
      "execution_count": 0,
      "outputs": []
    },
    {
      "cell_type": "code",
      "metadata": {
        "id": "erNj6f2hvijX",
        "colab_type": "code",
        "colab": {}
      },
      "source": [
        "forwardVitals = pd.DataFrame.ffill(vitals)\n",
        "backwardVitals = pd.DataFrame.bfill(vitals)\n",
        "forwardBackwardVitals = pd.DataFrame.ffill(backwardVitals)\n",
        "backwardForwardVitals = pd.DataFrame.bfill(forwardVitals)\n",
        "del vitals"
      ],
      "execution_count": 0,
      "outputs": []
    },
    {
      "cell_type": "code",
      "metadata": {
        "id": "5f-pCJ0HxwnT",
        "colab_type": "code",
        "colab": {}
      },
      "source": [
        "forwardVitals.columns = [\"Seq\",'ICUID', 'ChartDate', 'ChartTime', 'HeartRate', 'SysBP',\n",
        "       'DiasBP', 'MeanBP', 'RespRate', 'TempC', 'SpO2', 'Glucose']"
      ],
      "execution_count": 0,
      "outputs": []
    },
    {
      "cell_type": "code",
      "metadata": {
        "id": "AYOF3a5YzCPo",
        "colab_type": "code",
        "colab": {}
      },
      "source": [
        "full = re.compile('.{3}00.*')\n",
        "tfList = list()\n",
        "for index,row in forwardVitals.iterrows():\n",
        "  if index%2500000 == 0:\n",
        "    print(index)\n",
        "  time = row['ChartTime']\n",
        "  #print(str(time))\n",
        "  if full.match(time):\n",
        "    tfList.append(True)\n",
        "  else:\n",
        "    tfList.append(False)\n"
      ],
      "execution_count": 0,
      "outputs": []
    },
    {
      "cell_type": "code",
      "metadata": {
        "id": "xfg9Kg_5jANQ",
        "colab_type": "code",
        "colab": {}
      },
      "source": [
        "forwardVitals['TF'] = tfList"
      ],
      "execution_count": 0,
      "outputs": []
    },
    {
      "cell_type": "code",
      "metadata": {
        "id": "orDxBy6uxOED",
        "colab_type": "code",
        "colab": {}
      },
      "source": [
        "filteredForwardVitals = forwardVitals[forwardVitals['TF']==True]"
      ],
      "execution_count": 0,
      "outputs": []
    },
    {
      "cell_type": "code",
      "metadata": {
        "id": "tszLo4XrxSdQ",
        "colab_type": "code",
        "colab": {}
      },
      "source": [
        "del filteredForwardVitals[\"TF\"]"
      ],
      "execution_count": 0,
      "outputs": []
    },
    {
      "cell_type": "code",
      "metadata": {
        "id": "HdTCcJEWxzEr",
        "colab_type": "code",
        "colab": {}
      },
      "source": [
        "filteredForwardVitals.to_csv(r'/content/gdrive/My Drive/MIMIC-III/mimic-iii-clinical-database-1.4/mimic-iii-clinical-database-1.4/filteredForwardVitals.csv',index=False,header=True)"
      ],
      "execution_count": 0,
      "outputs": []
    },
    {
      "cell_type": "code",
      "metadata": {
        "id": "9LtMhof6zHJo",
        "colab_type": "code",
        "colab": {}
      },
      "source": [
        "backwardVitals.columns = [\"Seq\",'ICUID', 'ChartDate', 'ChartTime', 'HeartRate', 'SysBP','DiasBP', 'MeanBP', 'RespRate', 'TempC', 'SpO2', 'Glucose']\n",
        "\n",
        "full = re.compile('.{3}00.*')\n",
        "tfList = list()\n",
        "for index,row in backwardVitals.iterrows():\n",
        "  if index%2500000 == 0:\n",
        "    print(index)\n",
        "  time = row['ChartTime']\n",
        "  #print(str(time))\n",
        "  if full.match(time):\n",
        "    tfList.append(True)\n",
        "  else:\n",
        "    tfList.append(False)\n",
        "\n",
        "backwardVitals['TF'] = tfList\n",
        "\n",
        "filteredbackwardVitals = backwardVitals[backwardVitals['TF']==True]\n",
        "\n",
        "del filteredbackwardVitals[\"TF\"]\n",
        "\n",
        "filteredbackwardVitals.to_csv(r'/content/gdrive/My Drive/MIMIC-III/mimic-iii-clinical-database-1.4/mimic-iii-clinical-database-1.4/filteredbackwardVitals.csv',index=False,header=True)\n",
        "\n",
        "\n",
        "####\n",
        "\n",
        "forwardBackwardVitals.columns = [\"Seq\",'ICUID', 'ChartDate', 'ChartTime', 'HeartRate', 'SysBP','DiasBP', 'MeanBP', 'RespRate', 'TempC', 'SpO2', 'Glucose']\n",
        "\n",
        "full = re.compile('.{3}00.*')\n",
        "tfList = list()\n",
        "for index,row in forwardBackwardVitals.iterrows():\n",
        "  if index%2500000 == 0:\n",
        "    print(index)\n",
        "  time = row['ChartTime']\n",
        "  #print(str(time))\n",
        "  if full.match(time):\n",
        "    tfList.append(True)\n",
        "  else:\n",
        "    tfList.append(False)\n",
        "\n",
        "forwardBackwardVitals['TF'] = tfList\n",
        "\n",
        "filteredforwardBackwardVitals = forwardBackwardVitals[forwardBackwardVitals['TF']==True]\n",
        "\n",
        "del filteredforwardBackwardVitals[\"TF\"]\n",
        "\n",
        "filteredforwardBackwardVitals.to_csv(r'/content/gdrive/My Drive/MIMIC-III/mimic-iii-clinical-database-1.4/mimic-iii-clinical-database-1.4/filteredforwardBackwardVitals.csv',index=False,header=True)\n",
        "\n",
        "####\n",
        "\n"
      ],
      "execution_count": 0,
      "outputs": []
    },
    {
      "cell_type": "code",
      "metadata": {
        "id": "IRC-Ovp4zVHe",
        "colab_type": "code",
        "colab": {}
      },
      "source": [
        "backwardForwardVitals.columns = [\"Seq\",'ICUID', 'ChartDate', 'ChartTime', 'HeartRate', 'SysBP','DiasBP', 'MeanBP', 'RespRate', 'TempC', 'SpO2', 'Glucose']\n",
        "\n",
        "full = re.compile('.{3}00.*')\n",
        "tfList = list()\n",
        "for index,row in backwardForwardVitals.iterrows():\n",
        "  if index%2500000 == 0:\n",
        "    print(index)\n",
        "  time = row['ChartTime']\n",
        "  #print(str(time))\n",
        "  if full.match(time):\n",
        "    tfList.append(True)\n",
        "  else:\n",
        "    tfList.append(False)\n",
        "\n",
        "backwardForwardVitals['TF'] = tfList\n",
        "\n",
        "filteredbackwardForwardVitals = backwardForwardVitals[backwardForwardVitals['TF']==True]\n",
        "\n",
        "del filteredbackwardForwardVitals[\"TF\"]\n",
        "\n",
        "filteredbackwardForwardVitals.to_csv(r'/content/gdrive/My Drive/MIMIC-III/mimic-iii-clinical-database-1.4/mimic-iii-clinical-database-1.4/filteredbackwardForwardVitals.csv',index=False,header=True)\n"
      ],
      "execution_count": 0,
      "outputs": []
    },
    {
      "cell_type": "code",
      "metadata": {
        "id": "Y6ROpm-Q4q6n",
        "colab_type": "code",
        "colab": {}
      },
      "source": [
        "fbvitals = pd.read_table(\"/content/gdrive/My Drive/MIMIC-III/mimic-iii-clinical-database-1.4/mimic-iii-clinical-database-1.4/filteredforwardBackwardVitals.csv\",delimiter=\",\")"
      ],
      "execution_count": 0,
      "outputs": []
    },
    {
      "cell_type": "code",
      "metadata": {
        "id": "zco_cKgJ5NuW",
        "colab_type": "code",
        "colab": {}
      },
      "source": [
        "del fbvitals[\"Seq\"]"
      ],
      "execution_count": 0,
      "outputs": []
    },
    {
      "cell_type": "code",
      "metadata": {
        "id": "fcrnWznDmNeA",
        "colab_type": "code",
        "colab": {}
      },
      "source": [
        "fbvitals.iloc[0:10]"
      ],
      "execution_count": 0,
      "outputs": []
    },
    {
      "cell_type": "code",
      "metadata": {
        "id": "yzevqOsL5mI3",
        "colab_type": "code",
        "colab": {}
      },
      "source": [
        "perPatientList = []\n",
        "startCount = 1\n",
        "currentID = 200001\n",
        "endCount = 1\n",
        "for i in range(1,fbvitals.shape[0]):\n",
        "  if(currentID!=fbvitals.iloc[i][\"ICUID\"]):\n",
        "    perPatientList.append(fbvitals.iloc[startCount:endCount])\n",
        "    startCount = i\n",
        "    endCount = i\n",
        "    currentID = fbvitals.iloc[i][\"ICUID\"]\n",
        "  else:\n",
        "    endCount = endCount + 1;\n",
        "  if(i%100000 == 0):\n",
        "    print(i)\n",
        "\n",
        "\n",
        "  \n"
      ],
      "execution_count": 0,
      "outputs": []
    },
    {
      "cell_type": "code",
      "metadata": {
        "id": "ofUO7pSd9Hop",
        "colab_type": "code",
        "colab": {}
      },
      "source": [
        "tfList = []\n",
        "for i in perPatientList:\n",
        "  if(i.shape[0]>23):\n",
        "    tfList.append(True)\n",
        "  else:\n",
        "    tfList.append(False)"
      ],
      "execution_count": 0,
      "outputs": []
    },
    {
      "cell_type": "code",
      "metadata": {
        "id": "YgLkY_6P18as",
        "colab_type": "code",
        "colab": {}
      },
      "source": [
        "perPatientList[8]"
      ],
      "execution_count": 0,
      "outputs": []
    },
    {
      "cell_type": "code",
      "metadata": {
        "id": "KXbMb7xsIVbp",
        "colab_type": "code",
        "colab": {}
      },
      "source": [
        "from itertools import compress\n",
        "longPerPatientVitalList = list(compress(perPatientList,tfList))"
      ],
      "execution_count": 0,
      "outputs": []
    },
    {
      "cell_type": "code",
      "metadata": {
        "id": "atvgjqywI_sQ",
        "colab_type": "code",
        "colab": {}
      },
      "source": [
        "firstFirst = pd.read_csv(\"/content/gdrive/My Drive/MIMIC-III/mimic-iii-clinical-database-1.4/mimic-iii-clinical-database-1.4/FirstFirst.csv\",delimiter=\",\")\n",
        "firstFirstList = []\n",
        "for i in range(1,firstFirst.shape[0]):\n",
        "  firstFirstList.append(firstFirst.iloc[i][0])"
      ],
      "execution_count": 0,
      "outputs": []
    },
    {
      "cell_type": "code",
      "metadata": {
        "id": "1hDW_dezVek9",
        "colab_type": "code",
        "colab": {}
      },
      "source": [
        "ifList = []\n",
        "for i in longPerPatientVitalList:\n",
        "    if(i.iloc[0][\"ICUID\"] not in firstFirstList):\n",
        "      ifList.append(False)\n",
        "    else:\n",
        "      ifList.append(True)\n",
        "\n"
      ],
      "execution_count": 0,
      "outputs": []
    },
    {
      "cell_type": "code",
      "metadata": {
        "id": "QZQRgt2bXiG5",
        "colab_type": "code",
        "colab": {}
      },
      "source": [
        "longFirstFirstPerPatientVitalList = list(compress(longPerPatientVitalList,ifList))"
      ],
      "execution_count": 0,
      "outputs": []
    },
    {
      "cell_type": "code",
      "metadata": {
        "id": "HVa4tJ914kHE",
        "colab_type": "code",
        "colab": {}
      },
      "source": [
        "longFirstFirstPerPatientVitalList[0][0:24]"
      ],
      "execution_count": 0,
      "outputs": []
    },
    {
      "cell_type": "code",
      "metadata": {
        "id": "TGxNMsR9YJSV",
        "colab_type": "code",
        "colab": {}
      },
      "source": [
        "longFirstFirstFirstDayPerPatientVitalList = []\n",
        "for i in longFirstFirstPerPatientVitalList:\n",
        "  longFirstFirstFirstDayPerPatientVitalList.append(i.iloc[0:24])\n",
        "final = pd.concat(longFirstFirstFirstDayPerPatientVitalList,axis=0)\n",
        "final.to_csv(r'/content/gdrive/My Drive/MIMIC-III/Keras/fbFirstDayFirstVisitFirstICU.csv',index=False,header=True)"
      ],
      "execution_count": 0,
      "outputs": []
    },
    {
      "cell_type": "code",
      "metadata": {
        "id": "mokDe2Q8Y4xj",
        "colab_type": "code",
        "colab": {}
      },
      "source": [
        "longFirstFirstFirstDayPerPatientVitalList1 = []\n",
        "for i in longFirstFirstPerPatientVitalList:\n",
        "  longFirstFirstFirstDayPerPatientVitalList1.append(i)\n",
        "final = pd.concat(longFirstFirstFirstDayPerPatientVitalList1,axis=0)\n",
        "final.to_csv(r'/content/gdrive/My Drive/MIMIC-III/Keras/fbAllDayFirstVisitFirstICU.csv',index=False,header=True)"
      ],
      "execution_count": 0,
      "outputs": []
    },
    {
      "cell_type": "code",
      "metadata": {
        "id": "LWEwh87xZtkk",
        "colab_type": "code",
        "colab": {}
      },
      "source": [
        ""
      ],
      "execution_count": 0,
      "outputs": []
    },
    {
      "cell_type": "code",
      "metadata": {
        "id": "Z1iBf8pMbStJ",
        "colab_type": "code",
        "colab": {}
      },
      "source": [
        ""
      ],
      "execution_count": 0,
      "outputs": []
    },
    {
      "cell_type": "code",
      "metadata": {
        "id": "vzZSZArU_dFc",
        "colab_type": "code",
        "colab": {}
      },
      "source": [
        "from google.colab import drive\n",
        "drive.mount('/content/gdrive')\n"
      ],
      "execution_count": 0,
      "outputs": []
    },
    {
      "cell_type": "code",
      "metadata": {
        "id": "YMQgiShF_7er",
        "colab_type": "code",
        "colab": {}
      },
      "source": [
        "#ls \"/content/gdrive/My Drive/MIMIC-III/Keras\"\n",
        "import pandas as pd\n",
        "demo = pd.read_table(\"/content/gdrive/My Drive/MIMIC-III/Keras/KerasDemographicInput.csv\",delimiter = \",\")\n",
        "#matrix = pd.read_table(\"/content/gdrive/My Drive/MIMIC-III/Keras/fbFirstDayFirstVisitFirstICU.csv\",delimiter = \",\")\n",
        "matrix = pd.read_table(\"/content/gdrive/My Drive/MIMIC-III/Keras/48hMatrixInput.csv\",delimiter = \",\")\n",
        "#matrix = pd.read_table(\"/content/gdrive/My Drive/MIMIC-III/Keras/4hr48hMatrixInput.csv\",delimiter = \",\")\n",
        "\n",
        "los = pd.read_table(\"/content/gdrive/My Drive/MIMIC-III/Keras/KerasDemographicOutput.csv\",delimiter = \",\")"
      ],
      "execution_count": 0,
      "outputs": []
    },
    {
      "cell_type": "code",
      "metadata": {
        "id": "dTW4c2euD4SH",
        "colab_type": "code",
        "colab": {}
      },
      "source": [
        "from sklearn.metrics import roc_curve,roc_auc_score\n",
        "from __future__ import absolute_import, division, print_function, unicode_literals\n",
        "from sklearn.metrics import auc\n",
        "import matplotlib.pyplot as plt\n",
        "\n",
        "import numpy as np\n",
        "\n",
        "import tensorflow as tf\n",
        "\n",
        "from tensorflow import keras\n",
        "from tensorflow.keras import layers\n",
        "\n",
        "tf.keras.backend.clear_session() \n",
        "\n",
        "\n",
        "def plot_roc_curve(fpr,tpr): \n",
        "  plt.plot(fpr,tpr) \n",
        "  plt.axis([0,1,0,1]) \n",
        "  plt.xlabel('False Positive Rate') \n",
        "  plt.ylabel('True Positive Rate') \n",
        "  plt.show()\n"
      ],
      "execution_count": 0,
      "outputs": []
    },
    {
      "cell_type": "code",
      "metadata": {
        "id": "AKdxiJqDA47Z",
        "colab_type": "code",
        "colab": {}
      },
      "source": [
        "del demo['Unnamed: 0']\n",
        "del los['Unnamed: 0']\n",
        "del matrix['AbsTime']\n",
        "del matrix['RelTime']"
      ],
      "execution_count": 0,
      "outputs": []
    },
    {
      "cell_type": "code",
      "metadata": {
        "id": "kMxCOBGgBCR8",
        "colab_type": "code",
        "colab": {}
      },
      "source": [
        "matrixList = []\n",
        "startCount = 0\n",
        "currentID = matrix.iloc[0][\"ICUID\"]\n",
        "endCount = 1\n",
        "for i in range(1,matrix.shape[0]):\n",
        "  if(currentID!=matrix.iloc[i][\"ICUID\"]):\n",
        "    #print(endCount)\n",
        "    matrixList.append(matrix.iloc[startCount:endCount])\n",
        "    startCount = i\n",
        "    endCount = i+1\n",
        "    currentID = matrix.iloc[i][\"ICUID\"]\n",
        "  else:\n",
        "    endCount = endCount + 1;\n",
        "  if(i%50000 == 0):\n",
        "    print(i)"
      ],
      "execution_count": 0,
      "outputs": []
    },
    {
      "cell_type": "code",
      "metadata": {
        "id": "p7geEJ-dWXZB",
        "colab_type": "code",
        "colab": {}
      },
      "source": [
        "from progressbar import ProgressBar\n",
        "import math\n",
        "meanLoS = los['los'].sum()/(los.shape[0])\n",
        "pbar = ProgressBar()\n",
        "inputList = []\n",
        "losIntList = []\n",
        "for mEle in pbar(matrixList):\n",
        "  tempList = []\n",
        "  ICUID = mEle.iloc[0][\"ICUID\"]\n",
        "  tempList.append(mEle.drop(columns = ['ICUID','ChartDate','ChartTime'],errors='ignore'))\n",
        "  tempList.append(demo.loc[demo['ICU.ID'] == ICUID].drop(columns = ['ICU.ID']))#,'Unnamed: 0']))\n",
        "  tempLos = los.loc[los['ICU.ID'] == ICUID]['los']\n",
        "  if(tempLos.shape[0]!=1):\n",
        "    continue\n",
        "  tempLosList = []\n",
        "  for i in range(2,15): \n",
        "    if math.ceil(tempLos) == 2+i:\n",
        "      tempLosList.append(True)\n",
        "    else:\n",
        "      tempLosList.append(False)\n",
        "  if math.ceil(tempLos)>15:\n",
        "    tempLosList.append(True)\n",
        "  else:\n",
        "    tempLosList.append(False)\n",
        "  tempList.append(tempLosList)\n",
        "  tempList.append(tempLos-1)\n",
        " \n",
        "  if(math.ceil(tempLos)<3):\n",
        "    tempList.append(True)\n",
        "  else:\n",
        "    tempList.append(False)\n",
        "  if(math.ceil(tempLos)<5):\n",
        "    tempList.append(True)\n",
        "  else:\n",
        "    tempList.append(False)\n",
        "  if(math.ceil(tempLos)<7):\n",
        "    tempList.append(True)\n",
        "  else:\n",
        "    tempList.append(False)\n",
        "  losIntList.append(math.ceil(tempLos))\n",
        "  inputList.append(tempList)\n",
        "  \n"
      ],
      "execution_count": 0,
      "outputs": []
    },
    {
      "cell_type": "code",
      "metadata": {
        "id": "ivsUMlJmwTAG",
        "colab_type": "code",
        "colab": {}
      },
      "source": [
        ""
      ],
      "execution_count": 0,
      "outputs": []
    },
    {
      "cell_type": "code",
      "metadata": {
        "id": "G5gWjlpBwULo",
        "colab_type": "code",
        "colab": {}
      },
      "source": [
        "import matplotlib.pyplot as plt\n",
        "import statistics\n",
        "\n",
        "n, bins, patches = plt.hist(x=outputNumList, bins='auto',\n",
        "                            alpha=0.7, rwidth=0.85)\n",
        "plt.grid(axis='y', alpha=0.75)\n",
        "plt.xlabel('Days')\n",
        "plt.ylabel('Frequency')\n",
        "plt.title('LoS Histogram')\n",
        "maxfreq = n.max()/2\n",
        "# Set a clean upper y-axis limit.\n",
        "plt.ylim(ymax=np.ceil(maxfreq / 10) * 10 if maxfreq % 10 else maxfreq + 10)\n",
        "statistics.mean(outputNumList)"
      ],
      "execution_count": 0,
      "outputs": []
    },
    {
      "cell_type": "code",
      "metadata": {
        "id": "DlJT31Bow3_1",
        "colab_type": "code",
        "colab": {}
      },
      "source": [
        ""
      ],
      "execution_count": 0,
      "outputs": []
    },
    {
      "cell_type": "code",
      "metadata": {
        "id": "csnueLVOCpUV",
        "colab_type": "code",
        "colab": {}
      },
      "source": [
        "import random\n",
        "random.seed(2110)\n",
        "random.shuffle(inputList)\n",
        "cutoff = int(len(inputList)*2/10)\n",
        "print(cutoff)\n",
        "testList = inputList[:cutoff]\n",
        "trainList = inputList[cutoff:]\n",
        "copyList = inputList\n",
        "inputList = trainList\n",
        "\n",
        "inputDemoList = []\n",
        "inputMatrixList = []\n",
        "outputLoSList = []\n",
        "outputNumList = []\n",
        "outputBoolList = []\n",
        "outputBool2List = []\n",
        "outputBool3List = []\n",
        "for i in inputList:\n",
        "  #print(i[0])\n",
        "  inputDemoList.append(i[1].to_numpy())\n",
        "  inputMatrixList.append(i[0].to_numpy())\n",
        "  outputLoSList.append(np.asarray(i[2]))\n",
        "  outputNumList.append(float(i[3]))\n",
        "  outputBoolList.append(i[4])\n",
        "  outputBool2List.append(i[5])\n",
        "  outputBool3List.append(i[6])\n",
        "\n"
      ],
      "execution_count": 0,
      "outputs": []
    },
    {
      "cell_type": "code",
      "metadata": {
        "id": "AjMUy4JzK4Rt",
        "colab_type": "code",
        "colab": {}
      },
      "source": [
        "TinputDemoList = []\n",
        "TinputMatrixList = []\n",
        "ToutputLoSList = []\n",
        "ToutputNumList = []\n",
        "ToutputBoolList = []\n",
        "ToutputBool2List = []\n",
        "ToutputBool3List = []\n",
        "for i in testList:\n",
        "  TinputDemoList.append(i[1].to_numpy())\n",
        "  TinputMatrixList.append(i[0].to_numpy())\n",
        "  ToutputLoSList.append(np.asarray(i[2]))\n",
        "  ToutputNumList.append(float(i[3]))\n",
        "  ToutputBoolList.append(i[4])\n",
        "  ToutputBool2List.append(i[5])\n",
        "  ToutputBool3List.append(i[6])"
      ],
      "execution_count": 0,
      "outputs": []
    },
    {
      "cell_type": "code",
      "metadata": {
        "id": "GOgedznAjp8f",
        "colab_type": "code",
        "colab": {}
      },
      "source": [
        "inputDemoArray = np.stack(inputDemoList)\n",
        "inputMatrixArray = np.stack(inputMatrixList)\n",
        "outputLoSArray = np.stack(outputLoSList)\n",
        "outputNumArray = np.stack(outputNumList)\n",
        "outputBoolArray = np.stack(outputBoolList)\n",
        "outputBool2Array = np.stack(outputBool2List)\n",
        "outputBool3Array = np.stack(outputBool3List)"
      ],
      "execution_count": 0,
      "outputs": []
    },
    {
      "cell_type": "code",
      "metadata": {
        "id": "px8cWEU8xY7H",
        "colab_type": "code",
        "colab": {}
      },
      "source": [
        "TinputDemoArray = np.stack(TinputDemoList)\n",
        "TinputMatrixArray = np.stack(TinputMatrixList)\n",
        "ToutputLoSArray = np.stack(ToutputLoSList)\n",
        "ToutputNumArray = np.stack(ToutputNumList)\n",
        "ToutputBoolArray = np.stack(ToutputBoolList)\n",
        "ToutputBool2Array = np.stack(ToutputBool2List)\n",
        "ToutputBool3Array = np.stack(ToutputBool3List)"
      ],
      "execution_count": 0,
      "outputs": []
    },
    {
      "cell_type": "code",
      "metadata": {
        "id": "cWaAWPUjiJHm",
        "colab_type": "code",
        "colab": {}
      },
      "source": [
        "np.unique(outputBool2Array,return_counts = True)"
      ],
      "execution_count": 0,
      "outputs": []
    },
    {
      "cell_type": "code",
      "metadata": {
        "id": "39GMqV0ilT5p",
        "colab_type": "code",
        "colab": {}
      },
      "source": [
        "\n",
        "#inputDemoArray = inputDemoArray.reshape(inputDemoArray.shape[0],1,75)\n",
        "#inputMatrixArray = inputMatrixArray.reshape(inputMatrixArray.shape[0],24,8)\n",
        "outputLoSArray = outputLoSArray.reshape(outputLoSArray.shape[0],1,outputLoSArray.shape[1])\n",
        "ToutputLoSArray = ToutputLoSArray.reshape(ToutputLoSArray.shape[0],1,ToutputLoSArray.shape[1])\n"
      ],
      "execution_count": 0,
      "outputs": []
    },
    {
      "cell_type": "code",
      "metadata": {
        "id": "MUVhBS08Emq_",
        "colab_type": "code",
        "colab": {}
      },
      "source": [
        "import tensorflow_addons as tfa\n",
        "demoInput = keras.Input(shape = (1,75),dtype = \"float32\",name = 'DemoInput')\n",
        "matrixInput = keras.Input(shape= (24,8),dtype = 'float32',name = 'matrixInput')\n",
        "convFilter1 = 1024\n",
        "convKernelSize1 = 2\n",
        "poolSize = 3\n",
        "cnnLayer1 = keras.layers.Conv1D(convFilter1,convKernelSize1,input_shape =(24,8))(matrixInput) #23 rows 4 hrs\n",
        "cnnLayer2 = keras.layers.Conv1D(convFilter1,convKernelSize1)(cnnLayer1) #22 rows 8 hrs\n",
        "cnnLayer3 = keras.layers.Conv1D(convFilter1,convKernelSize1)(cnnLayer2) #21 rows 16 hrs\n",
        "cnnLayer4 = keras.layers.Conv1D(convFilter1,(convKernelSize1+1))(cnnLayer3) #19 rows one day\n",
        "cnnLayer5 = keras.layers.Conv1D(convFilter1,convKernelSize1)(cnnLayer4) # 18 rows\n",
        "poolingLayer1 = keras.layers.AveragePooling1D(pool_size=poolSize)(cnnLayer5)#6 rows\n",
        "convFilter3 = 1024\n",
        "convKernelSize3 = 4\n",
        "cnnLayer6 = keras.layers.Conv1D(convFilter3,convKernelSize3)(poolingLayer1) #3 rows\n",
        "poolingLayer2 = keras.layers.AveragePooling1D(pool_size=poolSize)(cnnLayer6) #1 row\n",
        "#print(keras.Model(inputs = matrixInput,outputs = poolingLayer2).summary())\n",
        "mergeLayer = keras.layers.concatenate([poolingLayer2,demoInput])\n",
        "hiddenLayer1 = keras.layers.LocallyConnected1D(2048,1,activation='linear')(mergeLayer)\n",
        "hiddenLayer2 = keras.layers.LocallyConnected1D(2048,1,activation='linear')(hiddenLayer1)\n",
        "hiddenLayer3 = keras.layers.Dense(1024,use_bias=True)(hiddenLayer2)\n",
        "hiddenLayer4 = keras.layers.Dense(1024,use_bias=True)(hiddenLayer3)\n",
        "finalDenseLayer = keras.layers.Dense(14,activation=\"softmax\", name='Bucket_Output')(hiddenLayer4)\n",
        "auxDenseLayer = keras.layers.Dense(1,name='Numerical_output')(hiddenLayer4)\n",
        "boolDenseLayer = keras.layers.Dense(1,name=\"Boolean_output\",activation = 'sigmoid')(hiddenLayer4)\n",
        "boolDense2Layer = keras.layers.Dense(1,name=\"Boolean_output2\",activation = 'sigmoid')(hiddenLayer4)\n",
        "boolDense3Layer = keras.layers.Dense(1,name=\"Boolean_output3\",activation = 'sigmoid')(hiddenLayer4)\n",
        "\n",
        "cnnModel1 = keras.Model(inputs = [demoInput,matrixInput],outputs = [finalDenseLayer,auxDenseLayer])\n",
        "cnnModel1.compile(optimizer='Adadelta', \n",
        "                 loss={'Bucket_Output':'categorical_crossentropy','Numerical_output':'mse'},\n",
        "                 loss_weights=[1.,.2],\n",
        "                 metrics={'Bucket_Output':'categorical_accuracy','Numerical_output':keras.metrics.mae})\n",
        "\n",
        "cnnModel2 = keras.Model(inputs = [demoInput,matrixInput],outputs = finalDenseLayer)\n",
        "cnnModel2.compile(optimizer='Adadelta', \n",
        "                 loss='categorical_crossentropy',\n",
        "                 metrics=['accuracy'])#,'top_k_categorical_accuracy'])\n",
        "                 \n",
        "cnnModel3 = keras.Model(inputs = [demoInput,matrixInput],outputs = boolDenseLayer)\n",
        "cnnModel3.compile(optimizer='Adadelta',loss='binary_crossentropy',metrics=['accuracy',keras.metrics.AUC(name='auc')])\n",
        "\n",
        "cnnModel4 = keras.Model(inputs = [demoInput,matrixInput],outputs = boolDense2Layer)\n",
        "cnnModel4.compile(optimizer='Adadelta',loss='binary_crossentropy',metrics=['accuracy',keras.metrics.AUC(name='auc')])\n",
        "\n",
        "cnnModel5 = keras.Model(inputs = [demoInput,matrixInput],outputs = boolDense3Layer)\n",
        "cnnModel5.compile(optimizer='Adadelta',loss='binary_crossentropy',metrics=['accuracy',keras.metrics.AUC(name='auc')])\n",
        "\n",
        "cnnModel6 = keras.Model(inputs = [demoInput,matrixInput],\n",
        "                        outputs = [boolDense2Layer,boolDense3Layer])\n",
        "\n",
        "cnnModel6.compile(optimizer='Adadelta',loss='binary_crossentropy',metrics=['accuracy',keras.metrics.AUC(name='auc')],\n",
        "                        loss_weights=[1.,1.])\n",
        "\n",
        "\n",
        "\n",
        "#tf.keras.utils.plot_model(cnnModel6)"
      ],
      "execution_count": 0,
      "outputs": []
    },
    {
      "cell_type": "code",
      "metadata": {
        "id": "2hlLDG4iNZhk",
        "colab_type": "code",
        "colab": {}
      },
      "source": [
        "tf.keras.backend.clear_session() "
      ],
      "execution_count": 0,
      "outputs": []
    },
    {
      "cell_type": "code",
      "metadata": {
        "id": "5ze7HNrmiZQD",
        "colab_type": "code",
        "colab": {}
      },
      "source": [
        "cnnModel1.fit([inputDemoArray,inputMatrixArray],[outputLoSArray,outputNumArray],batch_size= 512, epochs= 64,validation_split = 0.1,shuffle = True)"
      ],
      "execution_count": 0,
      "outputs": []
    },
    {
      "cell_type": "code",
      "metadata": {
        "id": "lfRFIJCPssvk",
        "colab_type": "code",
        "colab": {}
      },
      "source": [
        "cnnModel2.fit([inputDemoArray,inputMatrixArray],outputLoSArray,batch_size= 512, epochs= 128,validation_split = 0.2, shuffle = True)"
      ],
      "execution_count": 0,
      "outputs": []
    },
    {
      "cell_type": "code",
      "metadata": {
        "id": "LGaCsrL_Mwwj",
        "colab_type": "code",
        "colab": {}
      },
      "source": [
        "cnnModel4.fit([inputDemoArray,inputMatrixArray],outputBool2Array,batch_size= 256, epochs= 128,validation_split = 0.2, shuffle = True)"
      ],
      "execution_count": 0,
      "outputs": []
    },
    {
      "cell_type": "code",
      "metadata": {
        "id": "nLg4ESEUMw82",
        "colab_type": "code",
        "colab": {}
      },
      "source": [
        "cnnModel5.fit([inputDemoArray,inputMatrixArray],outputBool3Array,batch_size= 256, epochs= 128,validation_split = 0.3, shuffle = True)"
      ],
      "execution_count": 0,
      "outputs": []
    },
    {
      "cell_type": "code",
      "metadata": {
        "id": "nHeJGYDQMxOR",
        "colab_type": "code",
        "colab": {}
      },
      "source": [
        "cnnModel6.fit([inputDemoArray,inputMatrixArray],[outputBool2Array,outputBool3Array],batch_size= 128, epochs= 64,validation_split = 0.2, shuffle = True)"
      ],
      "execution_count": 0,
      "outputs": []
    },
    {
      "cell_type": "code",
      "metadata": {
        "id": "bhnq0WljxNkC",
        "colab_type": "code",
        "colab": {}
      },
      "source": [
        "print(cnnModel4.evaluate([TinputDemoArray,TinputMatrixArray],ToutputBool2Array))\n",
        "y_pred_keras = cnnModel4.predict([TinputDemoArray,TinputMatrixArray]).ravel()\n",
        "fpr_keras, tpr_keras, thresholds_keras = roc_curve(ToutputBool2Array, y_pred_keras)\n",
        "plot_roc_curve(fpr_keras, tpr_keras)"
      ],
      "execution_count": 0,
      "outputs": []
    },
    {
      "cell_type": "code",
      "metadata": {
        "id": "AeNtDx7AgmCU",
        "colab_type": "code",
        "colab": {}
      },
      "source": [
        "print(cnnModel5.evaluate([TinputDemoArray,TinputMatrixArray],ToutputBool3Array))\n",
        "y_pred_keras = cnnModel5.predict([TinputDemoArray,TinputMatrixArray]).ravel()\n",
        "fpr_keras, tpr_keras, thresholds_keras = roc_curve(ToutputBool3Array, y_pred_keras)\n",
        "plot_roc_curve(fpr_keras, tpr_keras)"
      ],
      "execution_count": 0,
      "outputs": []
    },
    {
      "cell_type": "code",
      "metadata": {
        "id": "Uog9x0SZyojd",
        "colab_type": "code",
        "colab": {}
      },
      "source": [
        "cnnModel6.fit([TinputDemoArray,TinputMatrixArray],[ToutputBool2Array,ToutputBool3Array])"
      ],
      "execution_count": 0,
      "outputs": []
    },
    {
      "cell_type": "code",
      "metadata": {
        "id": "u0o0XrWll-jG",
        "colab_type": "code",
        "colab": {}
      },
      "source": [
        "print(cnnModel6.fit([TinputDemoArray,TinputMatrixArray],[ToutputBool2Array,ToutputBool3Array]))\n",
        "(y_pred_keras1,y_pred_keras2) = cnnModel6.predict([TinputDemoArray,TinputMatrixArray])\n",
        "y_pred_keras1 = y_pred_keras1.ravel()\n",
        "y_pred_keras2 = y_pred_keras2.ravel()\n",
        "fpr_keras1, tpr_keras1, thresholds_keras1 = roc_curve(ToutputBool2Array, y_pred_keras1)\n",
        "fpr_keras2, tpr_keras2, thresholds_keras2 = roc_curve(ToutputBool3Array, y_pred_keras2)\n",
        "plot_roc_curve(fpr_keras1, tpr_keras1)\n",
        "plot_roc_curve(fpr_keras2, tpr_keras2)"
      ],
      "execution_count": 0,
      "outputs": []
    },
    {
      "cell_type": "code",
      "metadata": {
        "id": "sBPsxH4myxF-",
        "colab_type": "code",
        "colab": {}
      },
      "source": [
        "cnnModel2.fit([TinputDemoArray,TinputMatrixArray],ToutputLoSArray)"
      ],
      "execution_count": 0,
      "outputs": []
    },
    {
      "cell_type": "markdown",
      "metadata": {
        "id": "jBtB9udLxvrQ",
        "colab_type": "text"
      },
      "source": [
        "# CNN LoS Prediction Model"
      ]
    },
    {
      "cell_type": "markdown",
      "metadata": {
        "id": "i4nka-KrzQnR",
        "colab_type": "text"
      },
      "source": [
        "##Loading data"
      ]
    },
    {
      "cell_type": "code",
      "metadata": {
        "id": "1kDwi4LPxyaY",
        "colab_type": "code",
        "colab": {}
      },
      "source": [
        "from google.colab import drive\n",
        "drive.mount('/content/gdrive')\n"
      ],
      "execution_count": 0,
      "outputs": []
    },
    {
      "cell_type": "code",
      "metadata": {
        "id": "77FuLw3hx4C6",
        "colab_type": "code",
        "colab": {}
      },
      "source": [
        "#ls \"/content/gdrive/My Drive/MIMIC-III/Keras\"\n",
        "import pandas as pd\n",
        "demo = pd.read_table(\"/content/gdrive/My Drive/MIMIC-III/Keras/KerasDemographicInput.csv\",delimiter = \",\")\n",
        "matrix = pd.read_table(\"/content/gdrive/My Drive/MIMIC-III/Keras/2hr48hMatrixInput.csv\",delimiter = \",\")\n",
        "los = pd.read_table(\"/content/gdrive/My Drive/MIMIC-III/Keras/KerasDemographicOutput.csv\",delimiter = \",\")\n",
        "del demo['Unnamed: 0']\n",
        "del los['Unnamed: 0']\n",
        "del matrix['AbsTime']\n",
        "del matrix['RelTime']"
      ],
      "execution_count": 0,
      "outputs": []
    },
    {
      "cell_type": "code",
      "metadata": {
        "id": "H8KIE6mdg3AX",
        "colab_type": "code",
        "colab": {}
      },
      "source": [
        "pip install skll"
      ],
      "execution_count": 0,
      "outputs": []
    },
    {
      "cell_type": "code",
      "metadata": {
        "id": "wyt6owdsx7zU",
        "colab_type": "code",
        "colab": {}
      },
      "source": [
        "from sklearn.metrics import roc_curve,roc_auc_score,auc\n",
        "from __future__ import absolute_import, division, print_function, unicode_literals\n",
        "import matplotlib.pyplot as plt\n",
        "import numpy as np\n",
        "import tensorflow as tf\n",
        "import tensorflow.keras as keras\n",
        "from progressbar import ProgressBar\n",
        "import math\n",
        "import matplotlib.pyplot as plt\n",
        "import statistics\n",
        "import random\n",
        "import tensorflow_addons as tfa\n",
        "import sklearn\n",
        "import skll\n",
        "\n",
        "tf.keras.backend.clear_session() \n",
        "\n",
        "def plot_roc_curve(fpr,tpr): \n",
        "  plt.plot(fpr,tpr) \n",
        "  plt.axis([0,1,0,1]) \n",
        "  plt.xlabel('False Positive Rate') \n",
        "  plt.ylabel('True Positive Rate') \n",
        "  plt.show()"
      ],
      "execution_count": 0,
      "outputs": []
    },
    {
      "cell_type": "code",
      "metadata": {
        "id": "ggOdoVmvyEXC",
        "colab_type": "code",
        "colab": {}
      },
      "source": [
        "pbar = ProgressBar()\n",
        "matrixList = []\n",
        "startCount = 0\n",
        "currentID = matrix.iloc[0][\"ICUID\"]\n",
        "endCount = 1\n",
        "for i in pbar(range(1,matrix.shape[0])):\n",
        "  if(currentID!=matrix.iloc[i][\"ICUID\"]):\n",
        "    #print(endCount)\n",
        "    matrixList.append(matrix.iloc[startCount:endCount])\n",
        "    startCount = i\n",
        "    endCount = i+1\n",
        "    currentID = matrix.iloc[i][\"ICUID\"]\n",
        "  else:\n",
        "    endCount = endCount + 1;"
      ],
      "execution_count": 0,
      "outputs": []
    },
    {
      "cell_type": "code",
      "metadata": {
        "id": "KqBtjjOayOu7",
        "colab_type": "code",
        "colab": {}
      },
      "source": [
        "pbar = ProgressBar()\n",
        "inputList = []\n",
        "losIntList = []\n",
        "for mEle in pbar(matrixList):\n",
        "  tempList = []\n",
        "  ICUID = mEle.iloc[0][\"ICUID\"]\n",
        "  tempList.append(mEle.drop(columns = ['ICUID','ChartDate','ChartTime'],errors='ignore'))\n",
        "  tempList.append(demo.loc[demo['ICU.ID'] == ICUID].drop(columns = ['ICU.ID']))#,'Unnamed: 0']))\n",
        "  tempLos = los.loc[los['ICU.ID'] == ICUID]['los']\n",
        "  if(tempLos.shape[0]!=1):\n",
        "    continue\n",
        "  tempLosList = []\n",
        "  for i in range(2,15): \n",
        "    if math.ceil(tempLos) == 2+i:\n",
        "      tempLosList.append(True)\n",
        "    else:\n",
        "      tempLosList.append(False)\n",
        "  if math.ceil(tempLos)>15:\n",
        "    tempLosList.append(True)\n",
        "  else:\n",
        "    tempLosList.append(False)\n",
        "  tempList.append(tempLosList)\n",
        "  tempList.append(tempLos-1)\n",
        " \n",
        "  if(math.ceil(tempLos)<4):\n",
        "    tempList.append(True)\n",
        "  else:\n",
        "    tempList.append(False)\n",
        "  if(math.ceil(tempLos)<5):\n",
        "    tempList.append(True)\n",
        "  else:\n",
        "    tempList.append(False)\n",
        "  if(math.ceil(tempLos)<8):\n",
        "    tempList.append(True)\n",
        "  else:\n",
        "    tempList.append(False)\n",
        "  if(math.ceil(tempLos)<10):\n",
        "    tempList.append(True)\n",
        "  else:\n",
        "    tempList.append(False)\n",
        "  losIntList.append(math.ceil(tempLos))\n",
        "  inputList.append(tempList)\n",
        "  \n"
      ],
      "execution_count": 0,
      "outputs": []
    },
    {
      "cell_type": "code",
      "metadata": {
        "id": "NEf9vI5LSRG3",
        "colab_type": "code",
        "colab": {}
      },
      "source": [
        ""
      ],
      "execution_count": 0,
      "outputs": []
    },
    {
      "cell_type": "markdown",
      "metadata": {
        "id": "cRu0aKauy5LF",
        "colab_type": "text"
      },
      "source": [
        "## mean and median"
      ]
    },
    {
      "cell_type": "code",
      "metadata": {
        "id": "iZ4SmH0yy87o",
        "colab_type": "code",
        "colab": {}
      },
      "source": [
        "inputDemoList = []\n",
        "inputMatrixList = []\n",
        "outputLoSList = []\n",
        "outputNumList = []\n",
        "outputBoolList = []\n",
        "outputBool2List = []\n",
        "outputBool3List = []\n",
        "outputBool4List = []\n",
        "for i in inputList:\n",
        "  #print(i[0])\n",
        "  inputDemoList.append(i[1].to_numpy())\n",
        "  inputMatrixList.append(i[0].to_numpy())\n",
        "  outputLoSList.append(np.asarray(i[2]))\n",
        "  outputNumList.append(float(i[3]))\n",
        "  outputBoolList.append(i[4])\n",
        "  outputBool2List.append(i[5])\n",
        "  outputBool3List.append(i[6])\n",
        "  outputBool4List.append(i[7])"
      ],
      "execution_count": 0,
      "outputs": []
    },
    {
      "cell_type": "code",
      "metadata": {
        "id": "hcrxqLhBzF7S",
        "colab_type": "code",
        "colab": {}
      },
      "source": [
        "n, bins, patches = plt.hist(x=outputNumList, bins='auto',\n",
        "                            alpha=0.7, rwidth=0.85)\n",
        "plt.grid(axis='y', alpha=0.75)\n",
        "plt.xlabel('Days')\n",
        "plt.ylabel('Frequency')\n",
        "plt.title('LoS Histogram')\n",
        "maxfreq = n.max()/2\n",
        "# Set a clean upper y-axis limit.\n",
        "plt.ylim(ymax=np.ceil(maxfreq / 10) * 10 if maxfreq % 10 else maxfreq + 10)\n",
        "print(statistics.mean(outputNumList))\n",
        "print(statistics.median(outputNumList))"
      ],
      "execution_count": 0,
      "outputs": []
    },
    {
      "cell_type": "code",
      "metadata": {
        "id": "k1_RAuv8XZw2",
        "colab_type": "code",
        "colab": {}
      },
      "source": [
        "print(statistics.mean(outputBoolList))\n",
        "print(statistics.pstdev(outputBoolList))\n",
        "print(statistics.mean(outputBool2List))\n",
        "print(statistics.pstdev(outputBool2List))\n",
        "print(statistics.mean(outputBool3List))\n",
        "print(statistics.pstdev(outputBool3List))\n"
      ],
      "execution_count": 0,
      "outputs": []
    },
    {
      "cell_type": "code",
      "metadata": {
        "id": "p46BXHegbT3s",
        "colab_type": "code",
        "colab": {}
      },
      "source": [
        "inputDemoArray = np.concatenate(inputDemoList)"
      ],
      "execution_count": 0,
      "outputs": []
    },
    {
      "cell_type": "code",
      "metadata": {
        "id": "KgB8lH_HlktW",
        "colab_type": "code",
        "colab": {}
      },
      "source": [
        "\n",
        "counter = collections.Counter(inputDemoArray[:,3])\n",
        "print(counter)"
      ],
      "execution_count": 0,
      "outputs": []
    },
    {
      "cell_type": "code",
      "metadata": {
        "id": "Hhh343X7jf3w",
        "colab_type": "code",
        "colab": {}
      },
      "source": [
        "valList = inputDemoArray[:,59].tolist()\n",
        "print(statistics.mean(valList))\n",
        "print(statistics.pstdev(valList))"
      ],
      "execution_count": 0,
      "outputs": []
    },
    {
      "cell_type": "code",
      "metadata": {
        "id": "D_I5xDS_kLeK",
        "colab_type": "code",
        "colab": {}
      },
      "source": [
        "import collections\n",
        "heartRate = inputMatrixArray[:,7]\n",
        "heartRate = heartRate.tolist()\n",
        "newlist = []\n",
        "for i in heartRate:\n",
        "  if i < 5000:\n",
        "    newlist.append(i)\n",
        "n, bins, patches = plt.hist(newlist, 100, facecolor='blue')\n",
        "plt.show()\n",
        "print(statistics.mean(newlist))\n",
        "print(statistics.pstdev(newlist))"
      ],
      "execution_count": 0,
      "outputs": []
    },
    {
      "cell_type": "code",
      "metadata": {
        "id": "Hk_Oeil-bd-P",
        "colab_type": "code",
        "colab": {}
      },
      "source": [
        "\n",
        "heartRate = [int(x) for x in heartRate]\n",
        "counter = collections.Counter(heartRate)\n",
        "print(counter)\n",
        "n, bins, patches = plt.hist(heartRate[0:100000], 100, facecolor='blue')\n",
        "plt.show()"
      ],
      "execution_count": 0,
      "outputs": []
    },
    {
      "cell_type": "markdown",
      "metadata": {
        "id": "qVfmzDW6zMcQ",
        "colab_type": "text"
      },
      "source": [
        "## split"
      ]
    },
    {
      "cell_type": "code",
      "metadata": {
        "id": "TkauTlTszKLx",
        "colab_type": "code",
        "colab": {}
      },
      "source": [
        "random.seed(2110)\n",
        "random.shuffle(inputList)\n",
        "cutoff = int(len(inputList)*2/10)\n",
        "print(cutoff)\n",
        "testList = inputList[:cutoff]\n",
        "trainList = inputList[cutoff:]\n",
        "copyList = inputList\n",
        "inputList = trainList\n",
        "\n",
        "inputDemoList = []\n",
        "inputMatrixList = []\n",
        "outputLoSList = []\n",
        "outputNumList = []\n",
        "outputBoolList = []\n",
        "outputBool2List = []\n",
        "outputBool3List = []\n",
        "outputBool4List = []\n",
        "for i in inputList:\n",
        "  #print(i[0])\n",
        "  inputDemoList.append(i[1].to_numpy())\n",
        "  inputMatrixList.append(i[0].to_numpy())\n",
        "  outputLoSList.append(np.asarray(i[2]))\n",
        "  outputNumList.append(float(i[3]))\n",
        "  outputBoolList.append(i[4])\n",
        "  outputBool2List.append(i[5])\n",
        "  outputBool3List.append(i[6])\n",
        "  outputBool4List.append(i[7])\n",
        "\n",
        "TinputDemoList = []\n",
        "TinputMatrixList = []\n",
        "ToutputLoSList = []\n",
        "ToutputNumList = []\n",
        "ToutputBoolList = []\n",
        "ToutputBool2List = []\n",
        "ToutputBool3List = []\n",
        "ToutputBool4List = []\n",
        "for i in testList:\n",
        "  TinputDemoList.append(i[1].to_numpy())\n",
        "  TinputMatrixList.append(i[0].to_numpy())\n",
        "  ToutputLoSList.append(np.asarray(i[2]))\n",
        "  ToutputNumList.append(float(i[3]))\n",
        "  ToutputBoolList.append(i[4])\n",
        "  ToutputBool2List.append(i[5])\n",
        "  ToutputBool3List.append(i[6])\n",
        "  ToutputBool4List.append(i[7])"
      ],
      "execution_count": 0,
      "outputs": []
    },
    {
      "cell_type": "code",
      "metadata": {
        "id": "vzQE42MRziML",
        "colab_type": "code",
        "colab": {}
      },
      "source": [
        "inputDemoArray = np.stack(inputDemoList)\n",
        "inputMatrixArray = np.stack(inputMatrixList)\n",
        "outputLoSArray = np.stack(outputLoSList)\n",
        "outputNumArray = np.stack(outputNumList)\n",
        "outputBoolArray = np.stack(outputBoolList)\n",
        "outputBool2Array = np.stack(outputBool2List)\n",
        "outputBool3Array = np.stack(outputBool3List)\n",
        "outputBool4Array = np.stack(outputBool4List)"
      ],
      "execution_count": 0,
      "outputs": []
    },
    {
      "cell_type": "code",
      "metadata": {
        "id": "6OoBDUv7zk3f",
        "colab_type": "code",
        "colab": {}
      },
      "source": [
        "TinputDemoArray = np.stack(TinputDemoList)\n",
        "TinputMatrixArray = np.stack(TinputMatrixList)\n",
        "ToutputLoSArray = np.stack(ToutputLoSList)\n",
        "ToutputNumArray = np.stack(ToutputNumList)\n",
        "ToutputBoolArray = np.stack(ToutputBoolList)\n",
        "ToutputBool2Array = np.stack(ToutputBool2List)\n",
        "ToutputBool3Array = np.stack(ToutputBool3List)\n",
        "ToutputBool4Array = np.stack(ToutputBool4List)"
      ],
      "execution_count": 0,
      "outputs": []
    },
    {
      "cell_type": "code",
      "metadata": {
        "id": "VpyOrGPZ0AE8",
        "colab_type": "code",
        "colab": {}
      },
      "source": [
        "np.unique(outputBoolArray,return_counts = True)"
      ],
      "execution_count": 0,
      "outputs": []
    },
    {
      "cell_type": "code",
      "metadata": {
        "id": "NLZmNvCjzl0u",
        "colab_type": "code",
        "colab": {}
      },
      "source": [
        "np.unique(outputBool2Array,return_counts = True)"
      ],
      "execution_count": 0,
      "outputs": []
    },
    {
      "cell_type": "code",
      "metadata": {
        "id": "NpXHJI8ZzooU",
        "colab_type": "code",
        "colab": {}
      },
      "source": [
        "np.unique(outputBool3Array,return_counts = True)"
      ],
      "execution_count": 0,
      "outputs": []
    },
    {
      "cell_type": "code",
      "metadata": {
        "id": "Dt3bEHXIMH53",
        "colab_type": "code",
        "colab": {}
      },
      "source": [
        "np.unique(outputBool4Array,return_counts = True)"
      ],
      "execution_count": 0,
      "outputs": []
    },
    {
      "cell_type": "code",
      "metadata": {
        "id": "5OfLi75EzvZB",
        "colab_type": "code",
        "colab": {}
      },
      "source": [
        "outputLoSArray = outputLoSArray.reshape(outputLoSArray.shape[0],1,outputLoSArray.shape[1])\n",
        "ToutputLoSArray = ToutputLoSArray.reshape(ToutputLoSArray.shape[0],1,ToutputLoSArray.shape[1])\n"
      ],
      "execution_count": 0,
      "outputs": []
    },
    {
      "cell_type": "markdown",
      "metadata": {
        "id": "AMkg-5Yqzp9_",
        "colab_type": "text"
      },
      "source": [
        "##CNN"
      ]
    },
    {
      "cell_type": "code",
      "metadata": {
        "id": "ia1NHMmEzwZ7",
        "colab_type": "code",
        "colab": {}
      },
      "source": [
        "demoInput = keras.Input(shape = (1,75),dtype = \"float32\",name = 'Admin_Data_Input')\n",
        "matrixInput = keras.Input(shape= (24,8),dtype = 'float32',name = 'Vital_Signs_Input')\n",
        "convFilter1 = 1024\n",
        "convKernelSize1 = 2\n",
        "poolSize = 3\n",
        "cnnLayer1 = keras.layers.Conv1D(convFilter1,convKernelSize1,input_shape =(24,8),name = 'Conv_Layer_1')(matrixInput) #23 rows 4 hrs\n",
        "cnnLayer2 = keras.layers.Conv1D(convFilter1,convKernelSize1,name = 'Conv_Layer_2')(cnnLayer1) #22 rows 8 hrs\n",
        "cnnLayer4 = keras.layers.Conv1D(convFilter1,(convKernelSize1+1),name = 'Conv_Layer_3')(cnnLayer2) #18 rows one day\n",
        "cnnLayer5 = keras.layers.Conv1D(convFilter1,convKernelSize1,name = 'Conv_Layer_4')(cnnLayer4) # 18 rows\n",
        "poolingLayer1 = keras.layers.MaxPooling1D(pool_size=poolSize,name = 'Pooling_Layer_1')(cnnLayer5)#6 rows\n",
        "convFilter3 = 1024\n",
        "convKernelSize3 = 4\n",
        "cnnLayer6 = keras.layers.Conv1D(convFilter3,convKernelSize3,name = 'Conv_Layer_5')(poolingLayer1) #3 rows\n",
        "poolingLayer2 = keras.layers.MaxPooling1D(pool_size=poolSize,name = 'Pooling_Layer_2')(cnnLayer6) #1 row\n",
        "mergeLayer = keras.layers.concatenate([poolingLayer2,demoInput],name = 'Merge_Layer')\n",
        "hiddenLayer1 = keras.layers.Dense(2048,use_bias=True,activation='linear',name = 'Dense_Layer_1')(mergeLayer)\n",
        "hiddenLayer2_1 = keras.layers.Dense(2048,use_bias=True,activation='linear',name = 'Dense_Layer_2_for_3_days')(hiddenLayer1)\n",
        "hiddenLayer3_1 = keras.layers.Dense(2048,use_bias=True,activation='linear',name = 'Dense_Layer_3_for_3_days')(hiddenLayer2_1)\n",
        "hiddenLayer4_1 = keras.layers.Dense(2048,use_bias=True,activation='linear',name = 'Dense_Layer_4_for_3_days')(hiddenLayer3_1)\n",
        "\n",
        "hiddenLayer2_2 = keras.layers.Dense(2048,use_bias=True,activation='linear',name = 'Dense_Layer_2_for_4_days')(hiddenLayer1)\n",
        "hiddenLayer3_2 = keras.layers.Dense(2048,use_bias=True,activation='linear',name = 'Dense_Layer_3_for_4_days')(hiddenLayer2_2)\n",
        "hiddenLayer4_2 = keras.layers.Dense(2048,use_bias=True,activation='linear',name = 'Dense_Layer_4_for_4_days')(hiddenLayer3_2)\n",
        "\n",
        "hiddenLayer2_3 = keras.layers.Dense(2048,use_bias=True,activation='linear',name = 'Dense_Layer_2_for_7_days')(hiddenLayer1)\n",
        "hiddenLayer3_3 = keras.layers.Dense(2048,use_bias=True,activation='linear',name = 'Dense_Layer_3_for_7_days')(hiddenLayer2_3)\n",
        "hiddenLayer4_3 = keras.layers.Dense(2048,use_bias=True,activation='linear',name = 'Dense_Layer_4_for_7_days')(hiddenLayer3_3)\n",
        "\n",
        "hiddenLayer2_4 = keras.layers.Dense(2048,use_bias=True,activation='linear',name = 'Dense_Layer_2_for_9_days')(hiddenLayer1)\n",
        "hiddenLayer3_4 = keras.layers.Dense(2048,use_bias=True,activation='linear',name = 'Dense_Layer_3_for_9_days')(hiddenLayer2_4)\n",
        "hiddenLayer4_4 = keras.layers.Dense(2048,use_bias=True,activation='linear',name = 'Dense_Layer_4_for_9_days')(hiddenLayer3_4)\n",
        "\n",
        "\n",
        "finalDenseLayer = keras.layers.Dense(14,activation=\"softmax\", name='Bucket_Output')(hiddenLayer4_1)\n",
        "auxDenseLayer = keras.layers.Dense(1,name='Numerical_output')(hiddenLayer4_1)\n",
        "boolDense1Layer = keras.layers.Dense(1,activation = 'sigmoid',name = 'output_for_3_days')(hiddenLayer4_1)\n",
        "boolDense2Layer = keras.layers.Dense(1,activation = 'sigmoid',name = 'output_for_4_days')(hiddenLayer4_2)\n",
        "boolDense3Layer = keras.layers.Dense(1,activation = 'sigmoid',name = 'output_for_7_days')(hiddenLayer4_3)\n",
        "boolDense4Layer = keras.layers.Dense(1,activation = 'sigmoid',name = 'output_for_9_days')(hiddenLayer4_4)\n",
        "\n",
        "cnnModel2 = keras.Model(inputs = [demoInput,matrixInput],outputs = finalDenseLayer)\n",
        "cnnModel2.compile(optimizer='Adadelta', \n",
        "                 loss='categorical_crossentropy',\n",
        "                 metrics=['accuracy'])\n",
        "\n",
        "cnnModel3 = keras.Model(inputs = [demoInput,matrixInput],outputs = boolDense1Layer)\n",
        "cnnModel3.compile(optimizer='Adadelta',loss='binary_crossentropy',metrics=['accuracy',keras.metrics.AUC(name='auc')])\n",
        "\n",
        "cnnModel4 = keras.Model(inputs = [demoInput,matrixInput],outputs = boolDense2Layer)\n",
        "cnnModel4.compile(optimizer='Adadelta',loss='binary_crossentropy',metrics=['accuracy',keras.metrics.AUC(name='auc')])\n",
        "\n",
        "cnnModel5 = keras.Model(inputs = [demoInput,matrixInput],outputs = boolDense3Layer)\n",
        "cnnModel5.compile(optimizer='Adadelta',loss='binary_crossentropy',metrics=['accuracy',keras.metrics.AUC(name='auc')])\n",
        "\n",
        "cnnModel6 = keras.Model(inputs = [demoInput,matrixInput],outputs = boolDense4Layer)\n",
        "cnnModel6.compile(optimizer='Adadelta',loss='binary_crossentropy',metrics=['accuracy',keras.metrics.AUC(name='auc')])\n",
        "\n",
        "cnnModel7 = keras.Model(inputs = [demoInput,matrixInput],\n",
        "                        outputs = [boolDense1Layer,boolDense2Layer,boolDense3Layer,boolDense4Layer])\n",
        "\n",
        "cnnModel7.compile(optimizer='Adadelta',loss='binary_crossentropy',metrics=['accuracy',keras.metrics.AUC(name='auc')],\n",
        "                        loss_weights=[1.,1.,1.,1.])\n",
        "\n",
        "\n",
        "\n",
        "\n",
        "tf.keras.utils.plot_model(cnnModel7)"
      ],
      "execution_count": 0,
      "outputs": []
    },
    {
      "cell_type": "markdown",
      "metadata": {
        "id": "eAA3iRzYzy6R",
        "colab_type": "text"
      },
      "source": [
        "##Train"
      ]
    },
    {
      "cell_type": "code",
      "metadata": {
        "id": "tZ7YGIWEz3rQ",
        "colab_type": "code",
        "colab": {}
      },
      "source": [
        "tf.keras.backend.clear_session() "
      ],
      "execution_count": 0,
      "outputs": []
    },
    {
      "cell_type": "code",
      "metadata": {
        "id": "tXVGAt7ZG2uc",
        "colab_type": "code",
        "colab": {}
      },
      "source": [
        "cnnModel2.fit([inputDemoArray,inputMatrixArray],outputLoSArray,batch_size= 512, epochs= 128,validation_split = 0.25, shuffle = True)"
      ],
      "execution_count": 0,
      "outputs": []
    },
    {
      "cell_type": "code",
      "metadata": {
        "id": "853yqZFbz8hu",
        "colab_type": "code",
        "colab": {}
      },
      "source": [
        "cnnModel3.fit([inputDemoArray,inputMatrixArray],outputBoolArray,batch_size= 256, epochs= 128,validation_split = 0.25, shuffle = True)"
      ],
      "execution_count": 0,
      "outputs": []
    },
    {
      "cell_type": "code",
      "metadata": {
        "id": "0Am3WBgvz6rC",
        "colab_type": "code",
        "colab": {}
      },
      "source": [
        "cnnModel4.fit([inputDemoArray,inputMatrixArray],outputBool2Array,batch_size= 256, epochs= 128,validation_split = 0.25, shuffle = True)"
      ],
      "execution_count": 0,
      "outputs": []
    },
    {
      "cell_type": "code",
      "metadata": {
        "id": "zj8leieT0UtO",
        "colab_type": "code",
        "colab": {}
      },
      "source": [
        "cnnModel5.fit([inputDemoArray,inputMatrixArray],outputBool3Array,batch_size= 256, epochs= 128,validation_split = 0.25, shuffle = True)"
      ],
      "execution_count": 0,
      "outputs": []
    },
    {
      "cell_type": "code",
      "metadata": {
        "id": "Bv9gJg7pMp-K",
        "colab_type": "code",
        "colab": {}
      },
      "source": [
        "cnnModel6.fit([inputDemoArray,inputMatrixArray],outputBool4Array,batch_size= 256, epochs= 128,validation_split = 0.25, shuffle = True)"
      ],
      "execution_count": 0,
      "outputs": []
    },
    {
      "cell_type": "code",
      "metadata": {
        "id": "zJtYs9gO0tQu",
        "colab_type": "code",
        "colab": {}
      },
      "source": [
        "cnnModel7.fit([inputDemoArray,inputMatrixArray],[outputBoolArray,outputBool2Array,outputBool3Array,outputBool4Array],batch_size= 256, epochs= 128,validation_split = 0.25, shuffle = True)"
      ],
      "execution_count": 0,
      "outputs": []
    },
    {
      "cell_type": "markdown",
      "metadata": {
        "id": "GpMg39Jd0Yip",
        "colab_type": "text"
      },
      "source": [
        "## Validation"
      ]
    },
    {
      "cell_type": "code",
      "metadata": {
        "id": "p7-9E64GIkDX",
        "colab_type": "code",
        "colab": {}
      },
      "source": [
        "y_pred = cnnModel2.predict([TinputDemoArray,TinputMatrixArray])\n",
        "kll.metrics.kappa(y_pred, ToutputLoSArray)"
      ],
      "execution_count": 0,
      "outputs": []
    },
    {
      "cell_type": "code",
      "metadata": {
        "id": "Y4C7oTtA0X0a",
        "colab_type": "code",
        "colab": {}
      },
      "source": [
        "print(cnnModel3.evaluate([TinputDemoArray,TinputMatrixArray],ToutputBoolArray))\n",
        "y_pred_keras = cnnModel3.predict([TinputDemoArray,TinputMatrixArray]).ravel()\n",
        "fpr_keras, tpr_keras, thresholds_keras = roc_curve(ToutputBoolArray, y_pred_keras)\n",
        "plot_roc_curve(fpr_keras, tpr_keras)"
      ],
      "execution_count": 0,
      "outputs": []
    },
    {
      "cell_type": "code",
      "metadata": {
        "id": "MRKuxPuH0g7T",
        "colab_type": "code",
        "colab": {}
      },
      "source": [
        "print(cnnModel4.evaluate([TinputDemoArray,TinputMatrixArray],ToutputBool2Array))\n",
        "y_pred_keras = cnnModel4.predict([TinputDemoArray,TinputMatrixArray]).ravel()\n",
        "fpr_keras, tpr_keras, thresholds_keras = roc_curve(ToutputBool2Array, y_pred_keras)\n",
        "plot_roc_curve(fpr_keras, tpr_keras)"
      ],
      "execution_count": 0,
      "outputs": []
    },
    {
      "cell_type": "code",
      "metadata": {
        "id": "hcQkv9FP0kcp",
        "colab_type": "code",
        "colab": {}
      },
      "source": [
        "print(cnnModel5.evaluate([TinputDemoArray,TinputMatrixArray],ToutputBool3Array))\n",
        "y_pred_keras = cnnModel5.predict([TinputDemoArray,TinputMatrixArray]).ravel()\n",
        "fpr_keras, tpr_keras, thresholds_keras = roc_curve(ToutputBool3Array, y_pred_keras)\n",
        "plot_roc_curve(fpr_keras, tpr_keras)"
      ],
      "execution_count": 0,
      "outputs": []
    },
    {
      "cell_type": "code",
      "metadata": {
        "id": "wDnSU-Q-OhvY",
        "colab_type": "code",
        "colab": {}
      },
      "source": [
        "print(cnnModel6.evaluate([TinputDemoArray,TinputMatrixArray],ToutputBool4Array))\n",
        "y_pred_keras = cnnModel6.predict([TinputDemoArray,TinputMatrixArray]).ravel()\n",
        "fpr_keras, tpr_keras, thresholds_keras = roc_curve(ToutputBool4Array, y_pred_keras)\n",
        "plot_roc_curve(fpr_keras, tpr_keras)"
      ],
      "execution_count": 0,
      "outputs": []
    },
    {
      "cell_type": "code",
      "metadata": {
        "id": "Iab2cchw0ope",
        "colab_type": "code",
        "colab": {}
      },
      "source": [
        "print(cnnModel7.evaluate([TinputDemoArray,TinputMatrixArray],[ToutputBoolArray,ToutputBool2Array,ToutputBool3Array,ToutputBool4Array]))\n",
        "(y_pred_keras,y_pred_keras1,y_pred_keras2,y_pred_keras3) = cnnModel7.predict([TinputDemoArray,TinputMatrixArray])\n",
        "y_pred_keras = y_pred_keras.ravel()\n",
        "y_pred_keras1 = y_pred_keras1.ravel()\n",
        "y_pred_keras2 = y_pred_keras2.ravel()\n",
        "y_pred_keras3 = y_pred_keras3.ravel()\n",
        "fpr_keras, tpr_keras, thresholds_keras = roc_curve(ToutputBoolArray, y_pred_keras1)\n",
        "fpr_keras1, tpr_keras1, thresholds_keras1 = roc_curve(ToutputBool2Array, y_pred_keras1)\n",
        "fpr_keras2, tpr_keras2, thresholds_keras2 = roc_curve(ToutputBool3Array, y_pred_keras2)\n",
        "fpr_keras3, tpr_keras3, thresholds_keras3 = roc_curve(ToutputBool4Array, y_pred_keras3)\n",
        "plot_roc_curve(fpr_keras, tpr_keras)\n",
        "plot_roc_curve(fpr_keras1, tpr_keras1)\n",
        "plot_roc_curve(fpr_keras2, tpr_keras2)\n",
        "plot_roc_curve(fpr_keras3, tpr_keras3)"
      ],
      "execution_count": 0,
      "outputs": []
    },
    {
      "cell_type": "code",
      "metadata": {
        "id": "jfLSdIfeRyY5",
        "colab_type": "code",
        "colab": {}
      },
      "source": [
        ""
      ],
      "execution_count": 0,
      "outputs": []
    },
    {
      "cell_type": "code",
      "metadata": {
        "id": "d7uJbvlHZ38a",
        "colab_type": "code",
        "colab": {}
      },
      "source": [
        "(y_pred_keras,y_pred_keras1,y_pred_keras2,y_pred_keras3) = cnnModel7.predict([TinputDemoArray,TinputMatrixArray])\n",
        "ExamplePatientAdmin = TinputDemoList[1]\n",
        "print(\"Example patient:\")\n",
        "print(\"age: \" +  str(ExamplePatientAdmin[0][0]))\n",
        "print(\"Gender is female: \" +  str(ExamplePatientAdmin[0][3]))\n",
        "print(\"Insurance is private: \" + str(ExamplePatientAdmin[0][8]))\n",
        "print(\"Stayed in ICU for: \" + str(ToutputNumList[1]) + \" days\")\n",
        "print(\"Predicted value of dischaged in 3 days: \" + str(y_pred_keras[1]))\n",
        "print(\"Predicted value of dischaged in 4 days: \" + str(y_pred_keras1[1]))\n",
        "print(\"Predicted value of dischaged in 7 days: \" + str(y_pred_keras2[1]))\n",
        "print(\"Predicted value of dischaged in 9 days: \" + str(y_pred_keras3[1]))\n",
        "print(\"results > 0.5 suggests yes, results < 0.5 suggests no\")"
      ],
      "execution_count": 0,
      "outputs": []
    }
  ]
}